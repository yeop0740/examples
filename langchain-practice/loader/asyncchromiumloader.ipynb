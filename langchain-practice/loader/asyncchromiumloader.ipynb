{
  "cells": [
    {
      "cell_type": "code",
      "execution_count": 16,
      "metadata": {
        "colab": {
          "base_uri": "https://localhost:8080/",
          "height": 1000
        },
        "id": "deFVARjBgP3R",
        "outputId": "4a58b273-ae29-46cf-e3f8-ef6b34daac3b"
      },
      "outputs": [
        {
          "name": "stdout",
          "output_type": "stream",
          "text": [
            "Requirement already satisfied: langchain in /usr/local/lib/python3.12/dist-packages (0.3.27)\n",
            "Requirement already satisfied: openai in /usr/local/lib/python3.12/dist-packages (1.104.2)\n",
            "Requirement already satisfied: langchain-community in /usr/local/lib/python3.12/dist-packages (0.3.29)\n",
            "Requirement already satisfied: langchain-openai in /usr/local/lib/python3.12/dist-packages (0.3.32)\n",
            "Requirement already satisfied: html2text in /usr/local/lib/python3.12/dist-packages (2025.4.15)\n",
            "Requirement already satisfied: playwright in /usr/local/lib/python3.12/dist-packages (1.55.0)\n",
            "Requirement already satisfied: beautifulsoup4 in /usr/local/lib/python3.12/dist-packages (4.13.5)\n",
            "Requirement already satisfied: langchain-core<1.0.0,>=0.3.72 in /usr/local/lib/python3.12/dist-packages (from langchain) (0.3.75)\n",
            "Requirement already satisfied: langchain-text-splitters<1.0.0,>=0.3.9 in /usr/local/lib/python3.12/dist-packages (from langchain) (0.3.11)\n",
            "Requirement already satisfied: langsmith>=0.1.17 in /usr/local/lib/python3.12/dist-packages (from langchain) (0.4.23)\n",
            "Requirement already satisfied: pydantic<3.0.0,>=2.7.4 in /usr/local/lib/python3.12/dist-packages (from langchain) (2.11.7)\n",
            "Requirement already satisfied: SQLAlchemy<3,>=1.4 in /usr/local/lib/python3.12/dist-packages (from langchain) (2.0.43)\n",
            "Requirement already satisfied: requests<3,>=2 in /usr/local/lib/python3.12/dist-packages (from langchain) (2.32.5)\n",
            "Requirement already satisfied: PyYAML>=5.3 in /usr/local/lib/python3.12/dist-packages (from langchain) (6.0.2)\n",
            "Requirement already satisfied: anyio<5,>=3.5.0 in /usr/local/lib/python3.12/dist-packages (from openai) (4.10.0)\n",
            "Requirement already satisfied: distro<2,>=1.7.0 in /usr/local/lib/python3.12/dist-packages (from openai) (1.9.0)\n",
            "Requirement already satisfied: httpx<1,>=0.23.0 in /usr/local/lib/python3.12/dist-packages (from openai) (0.28.1)\n",
            "Requirement already satisfied: jiter<1,>=0.4.0 in /usr/local/lib/python3.12/dist-packages (from openai) (0.10.0)\n",
            "Requirement already satisfied: sniffio in /usr/local/lib/python3.12/dist-packages (from openai) (1.3.1)\n",
            "Requirement already satisfied: tqdm>4 in /usr/local/lib/python3.12/dist-packages (from openai) (4.67.1)\n",
            "Requirement already satisfied: typing-extensions<5,>=4.11 in /usr/local/lib/python3.12/dist-packages (from openai) (4.15.0)\n",
            "Requirement already satisfied: aiohttp<4.0.0,>=3.8.3 in /usr/local/lib/python3.12/dist-packages (from langchain-community) (3.12.15)\n",
            "Requirement already satisfied: tenacity!=8.4.0,<10,>=8.1.0 in /usr/local/lib/python3.12/dist-packages (from langchain-community) (8.5.0)\n",
            "Requirement already satisfied: dataclasses-json<0.7,>=0.6.7 in /usr/local/lib/python3.12/dist-packages (from langchain-community) (0.6.7)\n",
            "Requirement already satisfied: pydantic-settings<3.0.0,>=2.10.1 in /usr/local/lib/python3.12/dist-packages (from langchain-community) (2.10.1)\n",
            "Requirement already satisfied: httpx-sse<1.0.0,>=0.4.0 in /usr/local/lib/python3.12/dist-packages (from langchain-community) (0.4.1)\n",
            "Requirement already satisfied: numpy>=1.26.2 in /usr/local/lib/python3.12/dist-packages (from langchain-community) (2.0.2)\n",
            "Requirement already satisfied: tiktoken<1,>=0.7 in /usr/local/lib/python3.12/dist-packages (from langchain-openai) (0.11.0)\n",
            "Requirement already satisfied: pyee<14,>=13 in /usr/local/lib/python3.12/dist-packages (from playwright) (13.0.0)\n",
            "Requirement already satisfied: greenlet<4.0.0,>=3.1.1 in /usr/local/lib/python3.12/dist-packages (from playwright) (3.2.4)\n",
            "Requirement already satisfied: soupsieve>1.2 in /usr/local/lib/python3.12/dist-packages (from beautifulsoup4) (2.8)\n",
            "Requirement already satisfied: aiohappyeyeballs>=2.5.0 in /usr/local/lib/python3.12/dist-packages (from aiohttp<4.0.0,>=3.8.3->langchain-community) (2.6.1)\n",
            "Requirement already satisfied: aiosignal>=1.4.0 in /usr/local/lib/python3.12/dist-packages (from aiohttp<4.0.0,>=3.8.3->langchain-community) (1.4.0)\n",
            "Requirement already satisfied: attrs>=17.3.0 in /usr/local/lib/python3.12/dist-packages (from aiohttp<4.0.0,>=3.8.3->langchain-community) (25.3.0)\n",
            "Requirement already satisfied: frozenlist>=1.1.1 in /usr/local/lib/python3.12/dist-packages (from aiohttp<4.0.0,>=3.8.3->langchain-community) (1.7.0)\n",
            "Requirement already satisfied: multidict<7.0,>=4.5 in /usr/local/lib/python3.12/dist-packages (from aiohttp<4.0.0,>=3.8.3->langchain-community) (6.6.4)\n",
            "Requirement already satisfied: propcache>=0.2.0 in /usr/local/lib/python3.12/dist-packages (from aiohttp<4.0.0,>=3.8.3->langchain-community) (0.3.2)\n",
            "Requirement already satisfied: yarl<2.0,>=1.17.0 in /usr/local/lib/python3.12/dist-packages (from aiohttp<4.0.0,>=3.8.3->langchain-community) (1.20.1)\n",
            "Requirement already satisfied: idna>=2.8 in /usr/local/lib/python3.12/dist-packages (from anyio<5,>=3.5.0->openai) (3.10)\n",
            "Requirement already satisfied: marshmallow<4.0.0,>=3.18.0 in /usr/local/lib/python3.12/dist-packages (from dataclasses-json<0.7,>=0.6.7->langchain-community) (3.26.1)\n",
            "Requirement already satisfied: typing-inspect<1,>=0.4.0 in /usr/local/lib/python3.12/dist-packages (from dataclasses-json<0.7,>=0.6.7->langchain-community) (0.9.0)\n",
            "Requirement already satisfied: certifi in /usr/local/lib/python3.12/dist-packages (from httpx<1,>=0.23.0->openai) (2025.8.3)\n",
            "Requirement already satisfied: httpcore==1.* in /usr/local/lib/python3.12/dist-packages (from httpx<1,>=0.23.0->openai) (1.0.9)\n",
            "Requirement already satisfied: h11>=0.16 in /usr/local/lib/python3.12/dist-packages (from httpcore==1.*->httpx<1,>=0.23.0->openai) (0.16.0)\n",
            "Requirement already satisfied: jsonpatch<2.0,>=1.33 in /usr/local/lib/python3.12/dist-packages (from langchain-core<1.0.0,>=0.3.72->langchain) (1.33)\n",
            "Requirement already satisfied: packaging>=23.2 in /usr/local/lib/python3.12/dist-packages (from langchain-core<1.0.0,>=0.3.72->langchain) (25.0)\n",
            "Requirement already satisfied: orjson>=3.9.14 in /usr/local/lib/python3.12/dist-packages (from langsmith>=0.1.17->langchain) (3.11.3)\n",
            "Requirement already satisfied: requests-toolbelt>=1.0.0 in /usr/local/lib/python3.12/dist-packages (from langsmith>=0.1.17->langchain) (1.0.0)\n",
            "Requirement already satisfied: zstandard>=0.23.0 in /usr/local/lib/python3.12/dist-packages (from langsmith>=0.1.17->langchain) (0.24.0)\n",
            "Requirement already satisfied: annotated-types>=0.6.0 in /usr/local/lib/python3.12/dist-packages (from pydantic<3.0.0,>=2.7.4->langchain) (0.7.0)\n",
            "Requirement already satisfied: pydantic-core==2.33.2 in /usr/local/lib/python3.12/dist-packages (from pydantic<3.0.0,>=2.7.4->langchain) (2.33.2)\n",
            "Requirement already satisfied: typing-inspection>=0.4.0 in /usr/local/lib/python3.12/dist-packages (from pydantic<3.0.0,>=2.7.4->langchain) (0.4.1)\n",
            "Requirement already satisfied: python-dotenv>=0.21.0 in /usr/local/lib/python3.12/dist-packages (from pydantic-settings<3.0.0,>=2.10.1->langchain-community) (1.1.1)\n",
            "Requirement already satisfied: charset_normalizer<4,>=2 in /usr/local/lib/python3.12/dist-packages (from requests<3,>=2->langchain) (3.4.3)\n",
            "Requirement already satisfied: urllib3<3,>=1.21.1 in /usr/local/lib/python3.12/dist-packages (from requests<3,>=2->langchain) (2.5.0)\n",
            "Requirement already satisfied: regex>=2022.1.18 in /usr/local/lib/python3.12/dist-packages (from tiktoken<1,>=0.7->langchain-openai) (2024.11.6)\n",
            "Requirement already satisfied: jsonpointer>=1.9 in /usr/local/lib/python3.12/dist-packages (from jsonpatch<2.0,>=1.33->langchain-core<1.0.0,>=0.3.72->langchain) (3.0.0)\n",
            "Requirement already satisfied: mypy-extensions>=0.3.0 in /usr/local/lib/python3.12/dist-packages (from typing-inspect<1,>=0.4.0->dataclasses-json<0.7,>=0.6.7->langchain-community) (1.1.0)\n",
            "Playwright Host validation warning: \n",
            "╔══════════════════════════════════════════════════════╗\n",
            "║ Host system is missing dependencies to run browsers. ║\n",
            "║ Missing libraries:                                   ║\n",
            "║     libwoff2dec.so.1.0.2                             ║\n",
            "║     libgstgl-1.0.so.0                                ║\n",
            "║     libgstcodecparsers-1.0.so.0                      ║\n",
            "║     libavif.so.13                                    ║\n",
            "║     libharfbuzz-icu.so.0                             ║\n",
            "║     libenchant-2.so.2                                ║\n",
            "║     libsecret-1.so.0                                 ║\n",
            "║     libhyphen.so.0                                   ║\n",
            "║     libmanette-0.2.so.0                              ║\n",
            "╚══════════════════════════════════════════════════════╝\n",
            "    at validateDependenciesLinux (/usr/local/lib/python3.12/dist-packages/playwright/driver/package/lib/server/registry/dependencies.js:269:9)\n",
            "\u001b[90m    at process.processTicksAndRejections (node:internal/process/task_queues:105:5)\u001b[39m\n",
            "    at async Registry._validateHostRequirements (/usr/local/lib/python3.12/dist-packages/playwright/driver/package/lib/server/registry/index.js:934:14)\n",
            "    at async Registry._validateHostRequirementsForExecutableIfNeeded (/usr/local/lib/python3.12/dist-packages/playwright/driver/package/lib/server/registry/index.js:1056:7)\n",
            "    at async Registry.validateHostRequirementsForExecutablesIfNeeded (/usr/local/lib/python3.12/dist-packages/playwright/driver/package/lib/server/registry/index.js:1045:7)\n",
            "    at async i.<anonymous> (/usr/local/lib/python3.12/dist-packages/playwright/driver/package/lib/cli/program.js:217:7)\n",
            "Requirement already satisfied: nest-asyncio in /usr/local/lib/python3.12/dist-packages (1.6.0)\n"
          ]
        },
        {
          "ename": "NameError",
          "evalue": "name 'nest_asyncio' is not defined",
          "output_type": "error",
          "traceback": [
            "\u001b[0;31m---------------------------------------------------------------------------\u001b[0m",
            "\u001b[0;31mNameError\u001b[0m                                 Traceback (most recent call last)",
            "\u001b[0;32m/tmp/ipython-input-1017159351.py\u001b[0m in \u001b[0;36m<cell line: 0>\u001b[0;34m()\u001b[0m\n\u001b[1;32m      3\u001b[0m \u001b[0mget_ipython\u001b[0m\u001b[0;34m(\u001b[0m\u001b[0;34m)\u001b[0m\u001b[0;34m.\u001b[0m\u001b[0msystem\u001b[0m\u001b[0;34m(\u001b[0m\u001b[0;34m'pip install nest-asyncio'\u001b[0m\u001b[0;34m)\u001b[0m\u001b[0;34m\u001b[0m\u001b[0;34m\u001b[0m\u001b[0m\n\u001b[1;32m      4\u001b[0m \u001b[0;34m\u001b[0m\u001b[0m\n\u001b[0;32m----> 5\u001b[0;31m \u001b[0mnest_asyncio\u001b[0m\u001b[0;34m.\u001b[0m\u001b[0mapply\u001b[0m\u001b[0;34m(\u001b[0m\u001b[0;34m)\u001b[0m\u001b[0;34m\u001b[0m\u001b[0;34m\u001b[0m\u001b[0m\n\u001b[0m",
            "\u001b[0;31mNameError\u001b[0m: name 'nest_asyncio' is not defined"
          ]
        }
      ],
      "source": [
        "%pip install langchain openai langchain-community langchain-openai html2text playwright beautifulsoup4"
      ]
    },
    {
      "cell_type": "code",
      "execution_count": null,
      "metadata": {
        "id": "XfXAeNxwmvTc"
      },
      "outputs": [],
      "source": [
        "!playwright install"
      ]
    },
    {
      "cell_type": "code",
      "execution_count": 17,
      "metadata": {
        "colab": {
          "base_uri": "https://localhost:8080/"
        },
        "id": "ibIFjCLojMHU",
        "outputId": "0e9d7663-ad3a-4c23-f687-55b47511f02c"
      },
      "outputs": [
        {
          "name": "stdout",
          "output_type": "stream",
          "text": [
            "Requirement already satisfied: nest-asyncio in /usr/local/lib/python3.12/dist-packages (1.6.0)\n"
          ]
        },
        {
          "name": "stderr",
          "output_type": "stream",
          "text": [
            "<frozen posixpath>:82: RuntimeWarning: coroutine 'AsyncChromiumLoader.ascrape_playwright' was never awaited\n",
            "RuntimeWarning: Enable tracemalloc to get the object allocation traceback\n"
          ]
        }
      ],
      "source": [
        "!pip install nest-asyncio\n",
        "import nest_asyncio\n",
        "\n",
        "nest_asyncio.apply()"
      ]
    },
    {
      "cell_type": "code",
      "execution_count": 18,
      "metadata": {
        "id": "b5Hz1rCggbUm"
      },
      "outputs": [],
      "source": [
        "import os\n",
        "from google.colab import userdata\n",
        "\n",
        "os.environ['OPENAI_API_KEY'] = userdata.get('OPENAI_API_KEY')"
      ]
    },
    {
      "cell_type": "code",
      "execution_count": 19,
      "metadata": {
        "colab": {
          "base_uri": "https://localhost:8080/"
        },
        "id": "ojiuHsGZgsdy",
        "outputId": "7e8c007e-c012-40e9-ac4d-95158749056d"
      },
      "outputs": [
        {
          "data": {
            "text/plain": [
              "[Document(metadata={'source': 'https://docs.nestjs.com/custom-decorators'}, page_content='dark_mode\\n\\nSearch```K`\\n\\n  * Courses\\n  * Enterprise\\n  * NEW Devtools\\n  * Deploy with Mau \\n\\n### Introduction\\n\\n### Overview\\n\\n  * First steps \\n  * Controllers \\n  * Providers \\n  * Modules \\n  * Middleware \\n  * Exception filters \\n  * Pipes \\n  * Guards \\n  * Interceptors \\n  * Custom decorators \\n\\n### Fundamentals\\n\\n  * Custom providers \\n  * Asynchronous providers \\n  * Dynamic modules \\n  * Injection scopes \\n  * Circular dependency \\n  * Module reference \\n  * Lazy-loading modules \\n  * Execution context \\n  * Lifecycle events \\n  * Discovery service \\n  * Platform agnosticism \\n  * Testing \\n\\n### Techniques\\n\\n  * Configuration \\n  * Database \\n  * Mongo \\n  * Validation \\n  * Caching \\n  * Serialization \\n  * Versioning \\n  * Task scheduling \\n  * Queues \\n  * Logging \\n  * Cookies \\n  * Events \\n  * Compression \\n  * File upload \\n  * Streaming files \\n  * HTTP module \\n  * Session \\n  * Model-View-Controller \\n  * Performance (Fastify) \\n  * Server-Sent Events \\n\\n### Security\\n\\n  * Authentication \\n  * Authorization \\n  * Encryption and Hashing \\n  * Helmet \\n  * CORS \\n  * CSRF Protection \\n  * Rate limiting \\n\\n### GraphQL\\n\\n  * Quick start \\n  * Resolvers \\n  * Mutations \\n  * Subscriptions \\n  * Scalars \\n  * Directives \\n  * Interfaces \\n  * Unions and Enums \\n  * Field middleware \\n  * Mapped types \\n  * Plugins \\n  * Complexity \\n  * Extensions \\n  * CLI Plugin \\n  * Generating SDL \\n  * Sharing models \\n  * Other features \\n  * Federation \\n\\n### WebSockets\\n\\n  * Gateways \\n  * Exception filters \\n  * Pipes \\n  * Guards \\n  * Interceptors \\n  * Adapters \\n\\n### Microservices\\n\\n  * Overview \\n  * Redis \\n  * MQTT \\n  * NATS \\n  * RabbitMQ \\n  * Kafka \\n  * gRPC \\n  * Custom transporters \\n  * Exception filters \\n  * Pipes \\n  * Guards \\n  * Interceptors \\n\\n### NEWDeployment\\n\\n### Standalone apps\\n\\n### CLI\\n\\n  * Overview \\n  * Workspaces \\n  * Libraries \\n  * Usage \\n  * Scripts \\n\\n### OpenAPI\\n\\n  * Introduction \\n  * Types and Parameters \\n  * Operations \\n  * Security \\n  * Mapped Types \\n  * Decorators \\n  * CLI Plugin \\n  * Other features \\n\\n### Recipes\\n\\n  * REPL \\n  * CRUD generator \\n  * SWC (fast compiler) \\n  * Passport (auth) \\n  * Hot reload \\n  * MikroORM \\n  * TypeORM \\n  * Mongoose \\n  * Sequelize \\n  * Router module \\n  * Swagger \\n  * Health checks \\n  * CQRS \\n  * Compodoc \\n  * Prisma \\n  * Sentry \\n  * Serve static \\n  * Commander \\n  * Async local storage \\n  * Necord \\n  * Suites (Automock) \\n\\n### FAQ\\n\\n  * Serverless \\n  * HTTP adapter \\n  * Keep-Alive connections \\n  * Global path prefix \\n  * Raw body \\n  * Hybrid application \\n  * HTTPS & multiple servers \\n  * Request lifecycle \\n  * Common errors \\n  * Examples \\n\\n### Devtools\\n\\n  * Overview \\n  * CI/CD integration \\n\\n### Migration guide\\n\\n### API Reference\\n\\n### Official courses\\n\\n### Discover\\n\\n  * Who is using Nest? \\n  * Jobs board \\n\\n### Support us\\n\\nGet enterprise supportVersion 10\\n\\n  * Custom route decorators \\n  * Param decorators \\n  * Passing data \\n  * Working with pipes \\n  * Decorator composition \\n\\n### Custom route decorators'),\n",
              " Document(metadata={'source': 'https://docs.nestjs.com/custom-decorators'}, page_content=\"### API Reference\\n\\n### Official courses\\n\\n### Discover\\n\\n  * Who is using Nest? \\n  * Jobs board \\n\\n### Support us\\n\\nGet enterprise supportVersion 10\\n\\n  * Custom route decorators \\n  * Param decorators \\n  * Passing data \\n  * Working with pipes \\n  * Decorator composition \\n\\n### Custom route decorators\\n\\nNest is built around a language feature called **decorators**. Decorators are\\na well-known concept in a lot of commonly used programming languages, but in\\nthe JavaScript world, they're still relatively new. In order to better\\nunderstand how decorators work, we recommend reading this article. Here's a\\nsimple definition:\\n\\n> An ES2016 decorator is an expression which returns a function and can take a\\n> target, name and property descriptor as arguments. You apply it by prefixing\\n> the decorator with an `@` character and placing this at the very top of what\\n> you are trying to decorate. Decorators can be defined for either a class, a\\n> method or a property.\\n\\n#### Param decorators#\\n\\nNest provides a set of useful **param decorators** that you can use together\\nwith the HTTP route handlers. Below is a list of the provided decorators and\\nthe plain Express (or Fastify) objects they represent\\n\\n`@Request(), @Req()`| `req`  \\n---|---  \\n`@Response(), @Res()`| `res`  \\n`@Next()`| `next`  \\n`@Session()`| `req.session`  \\n`@Param(param?: string)`| `req.params` / `req.params[param]`  \\n`@Body(param?: string)`| `req.body` / `req.body[param]`  \\n`@Query(param?: string)`| `req.query` / `req.query[param]`  \\n`@Headers(param?: string)`| `req.headers` / `req.headers[param]`  \\n`@Ip()`| `req.ip`  \\n`@HostParam()`| `req.hosts`  \\n  \\nAdditionally, you can create your own **custom decorators**. Why is this\\nuseful?\\n\\nIn the node.js world, it's common practice to attach properties to the\\n**request** object. Then you manually extract them in each route handler,\\nusing code like the following:\\n\\ncontent_copy\\n\\n    \\n    \\n    const user = req.user;\\n    \\n\\nIn order to make your code more readable and transparent, you can create a\\n`@User()` decorator and reuse it across all of your controllers.\\n\\ncontent_copy user.decorator.ts\\n\\nJS  TS\\n\\n    \\n    \\n    import { createParamDecorator, ExecutionContext } from '@nestjs/common';\\n    \\n    export const User = createParamDecorator(\\n      (data: unknown, ctx: ExecutionContext) => {\\n        const request = ctx.switchToHttp().getRequest();\\n        return request.user;\\n      },\\n    );\\n    \\n\\nThen, you can simply use it wherever it fits your requirements.\\n\\ncontent_copy\\n\\nJS  TS\\n\\n    \\n    \\n    @Get()\\n    async findOne(@User() user: UserEntity) {\\n      console.log(user);\\n    }\\n    \\n    \\n    \\n    @Get()\\n    @Bind(User())\\n    async findOne(user) {\\n      console.log(user);\\n    }\\n    \\n\\n#### Passing data#\"),\n",
              " Document(metadata={'source': 'https://docs.nestjs.com/custom-decorators'}, page_content='content_copy\\n\\nJS  TS\\n\\n    \\n    \\n    @Get()\\n    async findOne(@User() user: UserEntity) {\\n      console.log(user);\\n    }\\n    \\n    \\n    \\n    @Get()\\n    @Bind(User())\\n    async findOne(user) {\\n      console.log(user);\\n    }\\n    \\n\\n#### Passing data#\\n\\nWhen the behavior of your decorator depends on some conditions, you can use\\nthe `data` parameter to pass an argument to the decorator\\'s factory function.\\nOne use case for this is a custom decorator that extracts properties from the\\nrequest object by key. Let\\'s assume, for example, that our authentication\\nlayer validates requests and attaches a user entity to the request object. The\\nuser entity for an authenticated request might look like:\\n\\n    \\n    \\n    {\\n      \"id\": 101,\\n      \"firstName\": \"Alan\",\\n      \"lastName\": \"Turing\",\\n      \"email\": \"alan@email.com\",\\n      \"roles\": [\"admin\"]\\n    }\\n    \\n\\nLet\\'s define a decorator that takes a property name as key, and returns the\\nassociated value if it exists (or undefined if it doesn\\'t exist, or if the\\n`user` object has not been created).\\n\\ncontent_copy user.decorator.ts\\n\\nJS  TS\\n\\n    \\n    \\n    import { createParamDecorator, ExecutionContext } from \\'@nestjs/common\\';\\n    \\n    export const User = createParamDecorator(\\n      (data: string, ctx: ExecutionContext) => {\\n        const request = ctx.switchToHttp().getRequest();\\n        const user = request.user;\\n    \\n        return data ? user?.[data] : user;\\n      },\\n    );\\n    \\n    \\n    \\n    import { createParamDecorator } from \\'@nestjs/common\\';\\n    \\n    export const User = createParamDecorator((data, ctx) => {\\n      const request = ctx.switchToHttp().getRequest();\\n      const user = request.user;\\n    \\n      return data ? user && user[data] : user;\\n    });\\n    \\n\\nHere\\'s how you could then access a particular property via the `@User()`\\ndecorator in the controller:\\n\\ncontent_copy\\n\\nJS  TS\\n\\n    \\n    \\n    @Get()\\n    async findOne(@User(\\'firstName\\') firstName: string) {\\n      console.log(`Hello ${firstName}`);\\n    }\\n    \\n    \\n    \\n    @Get()\\n    @Bind(User(\\'firstName\\'))\\n    async findOne(firstName) {\\n      console.log(`Hello ${firstName}`);\\n    }\\n    \\n\\nYou can use this same decorator with different keys to access different\\nproperties. If the `user` object is deep or complex, this can make for easier\\nand more readable request handler implementations.\\n\\n> **Hint** For TypeScript users, note that `createParamDecorator<T>()` is a\\n> generic. This means you can explicitly enforce type safety, for example\\n> `createParamDecorator<string>((data, ctx) => ...)`. Alternatively, specify a\\n> parameter type in the factory function, for example\\n> `createParamDecorator((data: string, ctx) => ...)`. If you omit both, the\\n> type for `data` will be `any`.\\n\\n#### Working with pipes#'),\n",
              " Document(metadata={'source': 'https://docs.nestjs.com/custom-decorators'}, page_content=\"#### Working with pipes#\\n\\nNest treats custom param decorators in the same fashion as the built-in ones\\n(`@Body()`, `@Param()` and `@Query()`). This means that pipes are executed for\\nthe custom annotated parameters as well (in our examples, the `user`\\nargument). Moreover, you can apply the pipe directly to the custom decorator:\\n\\ncontent_copy\\n\\nJS  TS\\n\\n    \\n    \\n    @Get()\\n    async findOne(\\n      @User(new ValidationPipe({ validateCustomDecorators: true }))\\n      user: UserEntity,\\n    ) {\\n      console.log(user);\\n    }\\n    \\n    \\n    \\n    @Get()\\n    @Bind(User(new ValidationPipe({ validateCustomDecorators: true })))\\n    async findOne(user) {\\n      console.log(user);\\n    }\\n    \\n\\n> **Hint** Note that `validateCustomDecorators` option must be set to true.\\n> `ValidationPipe` does not validate arguments annotated with the custom\\n> decorators by default.\\n\\n#### Decorator composition#\\n\\nNest provides a helper method to compose multiple decorators. For example,\\nsuppose you want to combine all decorators related to authentication into a\\nsingle decorator. This could be done with the following construction:\\n\\ncontent_copy auth.decorator.ts\\n\\nJS  TS\\n\\n    \\n    \\n    import { applyDecorators } from '@nestjs/common';\\n    \\n    export function Auth(...roles: Role[]) {\\n      return applyDecorators(\\n        SetMetadata('roles', roles),\\n        UseGuards(AuthGuard, RolesGuard),\\n        ApiBearerAuth(),\\n        ApiUnauthorizedResponse({ description: 'Unauthorized' }),\\n      );\\n    }\\n    \\n    \\n    \\n    import { applyDecorators } from '@nestjs/common';\\n    \\n    export function Auth(...roles) {\\n      return applyDecorators(\\n        SetMetadata('roles', roles),\\n        UseGuards(AuthGuard, RolesGuard),\\n        ApiBearerAuth(),\\n        ApiUnauthorizedResponse({ description: 'Unauthorized' }),\\n      );\\n    }\\n    \\n\\nYou can then use this custom `@Auth()` decorator as follows:\\n\\ncontent_copy\\n\\n    \\n    \\n    @Get('users')\\n    @Auth('admin')\\n    findAllUsers() {}\\n    \\n\\nThis has the effect of applying all four decorators with a single declaration.\\n\\n> **Warning** The `@ApiHideProperty()` decorator from the `@nestjs/swagger`\\n> package is not composable and won't work properly with the `applyDecorators`\\n> function.\\n\\n### Support us\\n\\nNest is an MIT-licensed open source project. It can grow thanks to the support\\nof these awesome people. If you'd like to join them, please read more here.\\n\\n#### Principal Sponsors\\n\\n#### Sponsors / Partners\\n\\nBecome a sponsor\\n\\n### Join our Newsletter\\n\\nSubscribe to stay up to date with the latest Nest updates, features, and\\nvideos!\\n\\nCopyright © 2017-2025 MIT by  Kamil Mysliwiec design by Jakub Staron  \\nOfficial NestJS Consulting  Trilon.io hosted by Netlify\")]"
            ]
          },
          "execution_count": 19,
          "metadata": {},
          "output_type": "execute_result"
        }
      ],
      "source": [
        "from langchain_openai import ChatOpenAI\n",
        "from langchain.document_loaders import WebBaseLoader\n",
        "from langchain.text_splitter import CharacterTextSplitter\n",
        "from langchain.chains.summarize import load_summarize_chain\n",
        "from langchain.prompts import PromptTemplate\n",
        "\n",
        "from langchain_community.document_loaders import AsyncChromiumLoader\n",
        "from langchain_community.document_transformers import Html2TextTransformer\n",
        "\n",
        "urls = [\"https://docs.nestjs.com/custom-decorators\"]\n",
        "loader = AsyncChromiumLoader(urls, user_agent=\"MyCrawler/1.0\")\n",
        "html_docs = loader.load()  # 렌더링된 HTML\n",
        "\n",
        "# HTML → 깔끔한 텍스트 변환\n",
        "html2text = Html2TextTransformer()\n",
        "texts = html2text.transform_documents(html_docs)\n",
        "\n",
        "# 뉴스기사의 본문을 Chunk 단위로 쪼갬\n",
        "text_splitter = CharacterTextSplitter(\n",
        "    separator=\"\\n\\n\",\n",
        "    chunk_size=3000,     # 쪼개는 글자수\n",
        "    chunk_overlap=300,   # 오버랩 글자수\n",
        "    length_function=len,\n",
        "    is_separator_regex=False,\n",
        ")\n",
        "\n",
        "# 웹사이트 내용 크롤링 후 Chunk 단위로 분할\n",
        "docs = text_splitter.split_documents(texts)\n",
        "docs"
      ]
    },
    {
      "cell_type": "code",
      "execution_count": null,
      "metadata": {
        "colab": {
          "base_uri": "https://localhost:8080/"
        },
        "id": "yrEPo6vdgvUU",
        "outputId": "0c70ffce-3a48-4e7c-d95e-afc50c490f25"
      },
      "outputs": [
        {
          "name": "stdout",
          "output_type": "stream",
          "text": [
            "input_variables=['text'] input_types={} partial_variables={} template='다음의 내용을 한글로 요약해줘:\\n\\n{text}\\n'\n",
            "input_variables=['text'] input_types={} partial_variables={} template='{text}\\n\\n요약의 결과는 다음의 형식으로 작성해줘:\\n제목: 신문기사의 제목\\n주요내용: 한 줄로 요약된 내용\\n작성자: 김철수 대리\\n내용: 주요내용을 불렛포인트 형식으로 작성\\n'\n"
          ]
        }
      ],
      "source": [
        "# 각 Chunk 단위의 템플릿\n",
        "template = '''다음의 내용을 한글로 요약해줘:\n",
        "\n",
        "{text}\n",
        "'''\n",
        "\n",
        "# 전체 문서(혹은 전체 Chunk)에 대한 지시(instruct) 정의\n",
        "combine_template = '''{text}\n",
        "\n",
        "요약의 결과는 다음의 형식으로 작성해줘:\n",
        "제목: 웹페이지 제지\n",
        "주요내용: 한 줄로 요약된 내용\n",
        "내용: 주요내용을 불렛포인트 형식으로 작성\n",
        "'''\n",
        "\n",
        "# 템플릿 생성\n",
        "prompt = PromptTemplate(template=template, input_variables=['text'])\n",
        "combine_prompt = PromptTemplate(template=combine_template, input_variables=['text'])\n",
        "print(prompt)\n",
        "print(combine_prompt)"
      ]
    },
    {
      "cell_type": "code",
      "execution_count": 21,
      "metadata": {
        "id": "Q1yC_sedgw5o"
      },
      "outputs": [],
      "source": [
        "# LLM 객체 생성\n",
        "llm = ChatOpenAI(temperature=0,\n",
        "                 model_name='gpt-5-mini')"
      ]
    },
    {
      "cell_type": "code",
      "execution_count": 24,
      "metadata": {
        "colab": {
          "base_uri": "https://localhost:8080/"
        },
        "id": "pdpQUlxwgyfp",
        "outputId": "4e99f800-295e-439e-f5cf-0bac2fdab0eb"
      },
      "outputs": [
        {
          "name": "stdout",
          "output_type": "stream",
          "text": [
            "제목: NestJS 문서 요약 — 커스텀 파라미터 데코레이터와 데코레이터 활용법 집중 정리\n",
            "\n",
            "주요내용: NestJS에서 커스텀 파라미터 데코레이터를 통해 요청의 user 등 특정 데이터를 주입하고, 파이프와 데코레이터 합성으로 깔끔하고 타입 안전한 컨트롤러 코드를 작성하는 방법을 설명.\n",
            "\n",
            "작성자: 김철수 대리\n",
            "\n",
            "내용:\n",
            "- 문서 개요\n",
            "  - NestJS 기초(컨트롤러·프로바이더·모듈 등)부터 고급 주제(마이크로서비스, GraphQL, WebSocket, 배포 등)를 포괄.\n",
            "  - Version 10 주요 개선: 커스텀 라우트/파라미터 데코레이터, 데이터 전달, 파이프 활용, 데코레이터 합성 등.\n",
            "\n",
            "- 데코레이터 기본\n",
            "  - ES2016 스타일 데코레이터는 데코레이터 표현식을 반환하는 함수이며 클래스·메서드·프로퍼티 등에 @를 붙여 사용.\n",
            "  - Nest는 여러 기본 파라미터 데코레이터(@Req, @Res, @Param, @Body, @Query, @Headers, @Ip 등)를 제공하며 내부적으로 Express/Fastify 요청 객체의 일부를 매핑.\n",
            "\n",
            "- 파라미터 데코레이터 매핑(주요 예)\n",
            "  - @Request(), @Req() → req\n",
            "  - @Response(), @Res() → res\n",
            "  - @Next() → next\n",
            "  - @Session() → req.session\n",
            "  - @Param(param?) → req.params / req.params[param]\n",
            "  - @Body(param?) → req.body / req.body[param]\n",
            "  - @Query(param?) → req.query / req.query[param]\n",
            "  - @Headers(param?) → req.headers / req.headers[param]\n",
            "  - @Ip() → req.ip\n",
            "\n",
            "- 커스텀 파라미터 데코레이터(요지)\n",
            "  - createParamDecorator와 ExecutionContext를 사용해 재사용 가능한 데코레이터 생성 가능.\n",
            "  - 보편적 패턴: request = ctx.switchToHttp().getRequest(); const user = request.user; return data ? user?.[data] : user;\n",
            "  - 사용 예: @User() user 또는 @User('firstName') firstName — data 인자를 받아 특정 속성만 주입.\n",
            "  - 요청에 user가 없거나 속성이 없으면 undefined 반환.\n",
            "\n",
            "- 데이터 전달(Passing data)\n",
            "  - createParamDecorator의 팩토리 함수로 데이터(데코레이터 인수)를 전달해 특정 키를 추출해 반환 가능.\n",
            "  - 문서상 Passing data 섹션은 제목으로 이어지며, 위의 data 인자 패턴이 핵심.\n",
            "\n",
            "- 파이프와의 연동\n",
            "  - 커스텀 파라미터 데코레이터로 주입된 값에도 파이프가 적용됨.\n",
            "  - 파이프를 데코레이터에 직접 전달 가능: @User(new ValidationPipe({ validateCustomDecorators: true }))\n",
            "  - 주의: ValidationPipe는 기본적으로 커스텀 데코레이터로 주입된 인자를 검증하지 않으므로 validateCustomDecorators: true 설정이 필요.\n",
            "\n",
            "- 데코레이터 합성(Decorator composition)\n",
            "  - applyDecorators 헬퍼로 여러 데코레이터를 하나로 묶어 재사용 가능한 커스텀 데코레이터를 만들 수 있음.\n",
            "  - 예: @Auth(...roles)로 SetMetadata, UseGuards, Swagger 데코레이터 등을 한 번에 적용.\n",
            "  - 경고: 일부 데코레이터(예: @ApiHideProperty from @nestjs/swagger)는 합성 시 제대로 동작하지 않을 수 있음.\n",
            "\n",
            "- 타입스크립트 팁\n",
            "  - createParamDecorator<T>()는 제네릭을 지원하므로 반환 타입을 명시해 타입 안전성을 높일 것.\n",
            "  - 팩토리 함수의 data 파라미터 타입을 지정하면 any를 피할 수 있음.\n",
            "\n",
            "- 기타\n",
            "  - NestJS는 MIT 라이선스 오픈소스이며 커뮤니티 지원(스폰서, 뉴스레터 등) 안내가 포함.\n"
          ]
        }
      ],
      "source": [
        "# 요약을 도와주는 load_summarize_chain\n",
        "chain = load_summarize_chain(llm,\n",
        "                             map_prompt=prompt,\n",
        "                             combine_prompt=combine_prompt,\n",
        "                             chain_type='map_reduce',\n",
        "                             verbose=False)\n",
        "\n",
        "# 실행결과\n",
        "output_text = chain.invoke(docs).get('output_text')\n",
        "print(output_text)"
      ]
    }
  ],
  "metadata": {
    "colab": {
      "provenance": []
    },
    "kernelspec": {
      "display_name": "Python 3",
      "name": "python3"
    },
    "language_info": {
      "name": "python"
    }
  },
  "nbformat": 4,
  "nbformat_minor": 0
}
