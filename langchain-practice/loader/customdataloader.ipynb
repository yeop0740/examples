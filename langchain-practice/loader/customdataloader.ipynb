{
  "nbformat": 4,
  "nbformat_minor": 0,
  "metadata": {
    "colab": {
      "provenance": []
    },
    "kernelspec": {
      "name": "python3",
      "display_name": "Python 3"
    },
    "language_info": {
      "name": "python"
    }
  },
  "cells": [
    {
      "cell_type": "code",
      "execution_count": 2,
      "metadata": {
        "colab": {
          "base_uri": "https://localhost:8080/"
        },
        "id": "-dfXs_lrnCc3",
        "outputId": "a5c0a356-ffd5-4371-8ede-846d22005b3e"
      },
      "outputs": [
        {
          "output_type": "stream",
          "name": "stdout",
          "text": [
            "Requirement already satisfied: langchain in /usr/local/lib/python3.12/dist-packages (0.3.27)\n",
            "Requirement already satisfied: openai in /usr/local/lib/python3.12/dist-packages (1.104.2)\n",
            "Requirement already satisfied: langchain-community in /usr/local/lib/python3.12/dist-packages (0.3.29)\n",
            "Requirement already satisfied: langchain-openai in /usr/local/lib/python3.12/dist-packages (0.3.32)\n",
            "Requirement already satisfied: html2text in /usr/local/lib/python3.12/dist-packages (2025.4.15)\n",
            "Requirement already satisfied: playwright in /usr/local/lib/python3.12/dist-packages (1.55.0)\n",
            "Requirement already satisfied: beautifulsoup4 in /usr/local/lib/python3.12/dist-packages (4.13.5)\n",
            "Collecting trafilatura\n",
            "  Downloading trafilatura-2.0.0-py3-none-any.whl.metadata (12 kB)\n",
            "Requirement already satisfied: langchain-core<1.0.0,>=0.3.72 in /usr/local/lib/python3.12/dist-packages (from langchain) (0.3.75)\n",
            "Requirement already satisfied: langchain-text-splitters<1.0.0,>=0.3.9 in /usr/local/lib/python3.12/dist-packages (from langchain) (0.3.11)\n",
            "Requirement already satisfied: langsmith>=0.1.17 in /usr/local/lib/python3.12/dist-packages (from langchain) (0.4.23)\n",
            "Requirement already satisfied: pydantic<3.0.0,>=2.7.4 in /usr/local/lib/python3.12/dist-packages (from langchain) (2.11.7)\n",
            "Requirement already satisfied: SQLAlchemy<3,>=1.4 in /usr/local/lib/python3.12/dist-packages (from langchain) (2.0.43)\n",
            "Requirement already satisfied: requests<3,>=2 in /usr/local/lib/python3.12/dist-packages (from langchain) (2.32.5)\n",
            "Requirement already satisfied: PyYAML>=5.3 in /usr/local/lib/python3.12/dist-packages (from langchain) (6.0.2)\n",
            "Requirement already satisfied: anyio<5,>=3.5.0 in /usr/local/lib/python3.12/dist-packages (from openai) (4.10.0)\n",
            "Requirement already satisfied: distro<2,>=1.7.0 in /usr/local/lib/python3.12/dist-packages (from openai) (1.9.0)\n",
            "Requirement already satisfied: httpx<1,>=0.23.0 in /usr/local/lib/python3.12/dist-packages (from openai) (0.28.1)\n",
            "Requirement already satisfied: jiter<1,>=0.4.0 in /usr/local/lib/python3.12/dist-packages (from openai) (0.10.0)\n",
            "Requirement already satisfied: sniffio in /usr/local/lib/python3.12/dist-packages (from openai) (1.3.1)\n",
            "Requirement already satisfied: tqdm>4 in /usr/local/lib/python3.12/dist-packages (from openai) (4.67.1)\n",
            "Requirement already satisfied: typing-extensions<5,>=4.11 in /usr/local/lib/python3.12/dist-packages (from openai) (4.15.0)\n",
            "Requirement already satisfied: aiohttp<4.0.0,>=3.8.3 in /usr/local/lib/python3.12/dist-packages (from langchain-community) (3.12.15)\n",
            "Requirement already satisfied: tenacity!=8.4.0,<10,>=8.1.0 in /usr/local/lib/python3.12/dist-packages (from langchain-community) (8.5.0)\n",
            "Requirement already satisfied: dataclasses-json<0.7,>=0.6.7 in /usr/local/lib/python3.12/dist-packages (from langchain-community) (0.6.7)\n",
            "Requirement already satisfied: pydantic-settings<3.0.0,>=2.10.1 in /usr/local/lib/python3.12/dist-packages (from langchain-community) (2.10.1)\n",
            "Requirement already satisfied: httpx-sse<1.0.0,>=0.4.0 in /usr/local/lib/python3.12/dist-packages (from langchain-community) (0.4.1)\n",
            "Requirement already satisfied: numpy>=1.26.2 in /usr/local/lib/python3.12/dist-packages (from langchain-community) (2.0.2)\n",
            "Requirement already satisfied: tiktoken<1,>=0.7 in /usr/local/lib/python3.12/dist-packages (from langchain-openai) (0.11.0)\n",
            "Requirement already satisfied: pyee<14,>=13 in /usr/local/lib/python3.12/dist-packages (from playwright) (13.0.0)\n",
            "Requirement already satisfied: greenlet<4.0.0,>=3.1.1 in /usr/local/lib/python3.12/dist-packages (from playwright) (3.2.4)\n",
            "Requirement already satisfied: soupsieve>1.2 in /usr/local/lib/python3.12/dist-packages (from beautifulsoup4) (2.8)\n",
            "Requirement already satisfied: certifi in /usr/local/lib/python3.12/dist-packages (from trafilatura) (2025.8.3)\n",
            "Requirement already satisfied: charset_normalizer>=3.4.0 in /usr/local/lib/python3.12/dist-packages (from trafilatura) (3.4.3)\n",
            "Collecting courlan>=1.3.2 (from trafilatura)\n",
            "  Downloading courlan-1.3.2-py3-none-any.whl.metadata (17 kB)\n",
            "Collecting htmldate>=1.9.2 (from trafilatura)\n",
            "  Downloading htmldate-1.9.3-py3-none-any.whl.metadata (10 kB)\n",
            "Collecting justext>=3.0.1 (from trafilatura)\n",
            "  Downloading justext-3.0.2-py2.py3-none-any.whl.metadata (7.3 kB)\n",
            "Requirement already satisfied: lxml>=5.3.0 in /usr/local/lib/python3.12/dist-packages (from trafilatura) (5.4.0)\n",
            "Requirement already satisfied: urllib3<3,>=1.26 in /usr/local/lib/python3.12/dist-packages (from trafilatura) (2.5.0)\n",
            "Requirement already satisfied: aiohappyeyeballs>=2.5.0 in /usr/local/lib/python3.12/dist-packages (from aiohttp<4.0.0,>=3.8.3->langchain-community) (2.6.1)\n",
            "Requirement already satisfied: aiosignal>=1.4.0 in /usr/local/lib/python3.12/dist-packages (from aiohttp<4.0.0,>=3.8.3->langchain-community) (1.4.0)\n",
            "Requirement already satisfied: attrs>=17.3.0 in /usr/local/lib/python3.12/dist-packages (from aiohttp<4.0.0,>=3.8.3->langchain-community) (25.3.0)\n",
            "Requirement already satisfied: frozenlist>=1.1.1 in /usr/local/lib/python3.12/dist-packages (from aiohttp<4.0.0,>=3.8.3->langchain-community) (1.7.0)\n",
            "Requirement already satisfied: multidict<7.0,>=4.5 in /usr/local/lib/python3.12/dist-packages (from aiohttp<4.0.0,>=3.8.3->langchain-community) (6.6.4)\n",
            "Requirement already satisfied: propcache>=0.2.0 in /usr/local/lib/python3.12/dist-packages (from aiohttp<4.0.0,>=3.8.3->langchain-community) (0.3.2)\n",
            "Requirement already satisfied: yarl<2.0,>=1.17.0 in /usr/local/lib/python3.12/dist-packages (from aiohttp<4.0.0,>=3.8.3->langchain-community) (1.20.1)\n",
            "Requirement already satisfied: idna>=2.8 in /usr/local/lib/python3.12/dist-packages (from anyio<5,>=3.5.0->openai) (3.10)\n",
            "Requirement already satisfied: babel>=2.16.0 in /usr/local/lib/python3.12/dist-packages (from courlan>=1.3.2->trafilatura) (2.17.0)\n",
            "Collecting tld>=0.13 (from courlan>=1.3.2->trafilatura)\n",
            "  Downloading tld-0.13.1-py2.py3-none-any.whl.metadata (10 kB)\n",
            "Requirement already satisfied: marshmallow<4.0.0,>=3.18.0 in /usr/local/lib/python3.12/dist-packages (from dataclasses-json<0.7,>=0.6.7->langchain-community) (3.26.1)\n",
            "Requirement already satisfied: typing-inspect<1,>=0.4.0 in /usr/local/lib/python3.12/dist-packages (from dataclasses-json<0.7,>=0.6.7->langchain-community) (0.9.0)\n",
            "Collecting dateparser>=1.1.2 (from htmldate>=1.9.2->trafilatura)\n",
            "  Downloading dateparser-1.2.2-py3-none-any.whl.metadata (29 kB)\n",
            "Requirement already satisfied: python-dateutil>=2.9.0.post0 in /usr/local/lib/python3.12/dist-packages (from htmldate>=1.9.2->trafilatura) (2.9.0.post0)\n",
            "Requirement already satisfied: httpcore==1.* in /usr/local/lib/python3.12/dist-packages (from httpx<1,>=0.23.0->openai) (1.0.9)\n",
            "Requirement already satisfied: h11>=0.16 in /usr/local/lib/python3.12/dist-packages (from httpcore==1.*->httpx<1,>=0.23.0->openai) (0.16.0)\n",
            "Requirement already satisfied: jsonpatch<2.0,>=1.33 in /usr/local/lib/python3.12/dist-packages (from langchain-core<1.0.0,>=0.3.72->langchain) (1.33)\n",
            "Requirement already satisfied: packaging>=23.2 in /usr/local/lib/python3.12/dist-packages (from langchain-core<1.0.0,>=0.3.72->langchain) (25.0)\n",
            "Requirement already satisfied: orjson>=3.9.14 in /usr/local/lib/python3.12/dist-packages (from langsmith>=0.1.17->langchain) (3.11.3)\n",
            "Requirement already satisfied: requests-toolbelt>=1.0.0 in /usr/local/lib/python3.12/dist-packages (from langsmith>=0.1.17->langchain) (1.0.0)\n",
            "Requirement already satisfied: zstandard>=0.23.0 in /usr/local/lib/python3.12/dist-packages (from langsmith>=0.1.17->langchain) (0.24.0)\n",
            "Requirement already satisfied: annotated-types>=0.6.0 in /usr/local/lib/python3.12/dist-packages (from pydantic<3.0.0,>=2.7.4->langchain) (0.7.0)\n",
            "Requirement already satisfied: pydantic-core==2.33.2 in /usr/local/lib/python3.12/dist-packages (from pydantic<3.0.0,>=2.7.4->langchain) (2.33.2)\n",
            "Requirement already satisfied: typing-inspection>=0.4.0 in /usr/local/lib/python3.12/dist-packages (from pydantic<3.0.0,>=2.7.4->langchain) (0.4.1)\n",
            "Requirement already satisfied: python-dotenv>=0.21.0 in /usr/local/lib/python3.12/dist-packages (from pydantic-settings<3.0.0,>=2.10.1->langchain-community) (1.1.1)\n",
            "Requirement already satisfied: regex>=2022.1.18 in /usr/local/lib/python3.12/dist-packages (from tiktoken<1,>=0.7->langchain-openai) (2024.11.6)\n",
            "Requirement already satisfied: pytz>=2024.2 in /usr/local/lib/python3.12/dist-packages (from dateparser>=1.1.2->htmldate>=1.9.2->trafilatura) (2025.2)\n",
            "Requirement already satisfied: tzlocal>=0.2 in /usr/local/lib/python3.12/dist-packages (from dateparser>=1.1.2->htmldate>=1.9.2->trafilatura) (5.3.1)\n",
            "Requirement already satisfied: jsonpointer>=1.9 in /usr/local/lib/python3.12/dist-packages (from jsonpatch<2.0,>=1.33->langchain-core<1.0.0,>=0.3.72->langchain) (3.0.0)\n",
            "Collecting lxml_html_clean (from lxml[html_clean]>=4.4.2->justext>=3.0.1->trafilatura)\n",
            "  Downloading lxml_html_clean-0.4.2-py3-none-any.whl.metadata (2.4 kB)\n",
            "Requirement already satisfied: six>=1.5 in /usr/local/lib/python3.12/dist-packages (from python-dateutil>=2.9.0.post0->htmldate>=1.9.2->trafilatura) (1.17.0)\n",
            "Requirement already satisfied: mypy-extensions>=0.3.0 in /usr/local/lib/python3.12/dist-packages (from typing-inspect<1,>=0.4.0->dataclasses-json<0.7,>=0.6.7->langchain-community) (1.1.0)\n",
            "Downloading trafilatura-2.0.0-py3-none-any.whl (132 kB)\n",
            "\u001b[2K   \u001b[90m━━━━━━━━━━━━━━━━━━━━━━━━━━━━━━━━━━━━━━━━\u001b[0m \u001b[32m132.6/132.6 kB\u001b[0m \u001b[31m9.1 MB/s\u001b[0m eta \u001b[36m0:00:00\u001b[0m\n",
            "\u001b[?25hDownloading courlan-1.3.2-py3-none-any.whl (33 kB)\n",
            "Downloading htmldate-1.9.3-py3-none-any.whl (31 kB)\n",
            "Downloading justext-3.0.2-py2.py3-none-any.whl (837 kB)\n",
            "\u001b[2K   \u001b[90m━━━━━━━━━━━━━━━━━━━━━━━━━━━━━━━━━━━━━━━━\u001b[0m \u001b[32m837.9/837.9 kB\u001b[0m \u001b[31m38.1 MB/s\u001b[0m eta \u001b[36m0:00:00\u001b[0m\n",
            "\u001b[?25hDownloading dateparser-1.2.2-py3-none-any.whl (315 kB)\n",
            "\u001b[2K   \u001b[90m━━━━━━━━━━━━━━━━━━━━━━━━━━━━━━━━━━━━━━━━\u001b[0m \u001b[32m315.5/315.5 kB\u001b[0m \u001b[31m17.6 MB/s\u001b[0m eta \u001b[36m0:00:00\u001b[0m\n",
            "\u001b[?25hDownloading tld-0.13.1-py2.py3-none-any.whl (274 kB)\n",
            "\u001b[2K   \u001b[90m━━━━━━━━━━━━━━━━━━━━━━━━━━━━━━━━━━━━━━━━\u001b[0m \u001b[32m274.7/274.7 kB\u001b[0m \u001b[31m15.1 MB/s\u001b[0m eta \u001b[36m0:00:00\u001b[0m\n",
            "\u001b[?25hDownloading lxml_html_clean-0.4.2-py3-none-any.whl (14 kB)\n",
            "Installing collected packages: tld, lxml_html_clean, dateparser, courlan, justext, htmldate, trafilatura\n",
            "Successfully installed courlan-1.3.2 dateparser-1.2.2 htmldate-1.9.3 justext-3.0.2 lxml_html_clean-0.4.2 tld-0.13.1 trafilatura-2.0.0\n"
          ]
        }
      ],
      "source": [
        "%pip install langchain openai langchain-community langchain-openai html2text playwright beautifulsoup4 trafilatura"
      ]
    },
    {
      "cell_type": "code",
      "source": [
        "!playwright install"
      ],
      "metadata": {
        "colab": {
          "base_uri": "https://localhost:8080/"
        },
        "id": "WFs1bGUWnFwX",
        "outputId": "7df0234e-fc95-484f-ac84-b4600551f262"
      },
      "execution_count": 3,
      "outputs": [
        {
          "output_type": "stream",
          "name": "stdout",
          "text": [
            "Downloading Chromium 140.0.7339.16 (playwright build v1187)\u001b[2m from https://cdn.playwright.dev/dbazure/download/playwright/builds/chromium/1187/chromium-linux.zip\u001b[22m\n",
            "\u001b[1G173.7 MiB [] 0% 0.0s\u001b[0K\u001b[1G173.7 MiB [] 0% 4.7s\u001b[0K\u001b[1G173.7 MiB [] 1% 3.0s\u001b[0K\u001b[1G173.7 MiB [] 1% 2.6s\u001b[0K\u001b[1G173.7 MiB [] 2% 2.3s\u001b[0K\u001b[1G173.7 MiB [] 3% 2.2s\u001b[0K\u001b[1G173.7 MiB [] 4% 2.1s\u001b[0K\u001b[1G173.7 MiB [] 5% 2.1s\u001b[0K\u001b[1G173.7 MiB [] 6% 2.2s\u001b[0K\u001b[1G173.7 MiB [] 7% 2.1s\u001b[0K\u001b[1G173.7 MiB [] 8% 2.0s\u001b[0K\u001b[1G173.7 MiB [] 9% 2.0s\u001b[0K\u001b[1G173.7 MiB [] 10% 2.0s\u001b[0K\u001b[1G173.7 MiB [] 11% 2.0s\u001b[0K\u001b[1G173.7 MiB [] 12% 1.9s\u001b[0K\u001b[1G173.7 MiB [] 13% 1.9s\u001b[0K\u001b[1G173.7 MiB [] 14% 1.8s\u001b[0K\u001b[1G173.7 MiB [] 15% 1.8s\u001b[0K\u001b[1G173.7 MiB [] 16% 1.8s\u001b[0K\u001b[1G173.7 MiB [] 17% 1.7s\u001b[0K\u001b[1G173.7 MiB [] 18% 1.7s\u001b[0K\u001b[1G173.7 MiB [] 19% 1.6s\u001b[0K\u001b[1G173.7 MiB [] 19% 1.7s\u001b[0K\u001b[1G173.7 MiB [] 20% 1.7s\u001b[0K\u001b[1G173.7 MiB [] 21% 1.6s\u001b[0K\u001b[1G173.7 MiB [] 22% 1.6s\u001b[0K\u001b[1G173.7 MiB [] 23% 1.5s\u001b[0K\u001b[1G173.7 MiB [] 24% 1.5s\u001b[0K\u001b[1G173.7 MiB [] 25% 1.4s\u001b[0K\u001b[1G173.7 MiB [] 26% 1.5s\u001b[0K\u001b[1G173.7 MiB [] 28% 1.5s\u001b[0K\u001b[1G173.7 MiB [] 29% 1.4s\u001b[0K\u001b[1G173.7 MiB [] 30% 1.4s\u001b[0K\u001b[1G173.7 MiB [] 32% 1.3s\u001b[0K\u001b[1G173.7 MiB [] 33% 1.3s\u001b[0K\u001b[1G173.7 MiB [] 34% 1.2s\u001b[0K\u001b[1G173.7 MiB [] 35% 1.2s\u001b[0K\u001b[1G173.7 MiB [] 37% 1.2s\u001b[0K\u001b[1G173.7 MiB [] 38% 1.1s\u001b[0K\u001b[1G173.7 MiB [] 39% 1.1s\u001b[0K\u001b[1G173.7 MiB [] 40% 1.1s\u001b[0K\u001b[1G173.7 MiB [] 41% 1.1s\u001b[0K\u001b[1G173.7 MiB [] 42% 1.1s\u001b[0K\u001b[1G173.7 MiB [] 43% 1.0s\u001b[0K\u001b[1G173.7 MiB [] 45% 1.0s\u001b[0K\u001b[1G173.7 MiB [] 46% 0.9s\u001b[0K\u001b[1G173.7 MiB [] 48% 0.9s\u001b[0K\u001b[1G173.7 MiB [] 49% 0.9s\u001b[0K\u001b[1G173.7 MiB [] 50% 0.8s\u001b[0K\u001b[1G173.7 MiB [] 52% 0.8s\u001b[0K\u001b[1G173.7 MiB [] 53% 0.8s\u001b[0K\u001b[1G173.7 MiB [] 55% 0.8s\u001b[0K\u001b[1G173.7 MiB [] 56% 0.7s\u001b[0K\u001b[1G173.7 MiB [] 57% 0.7s\u001b[0K\u001b[1G173.7 MiB [] 58% 0.7s\u001b[0K\u001b[1G173.7 MiB [] 59% 0.7s\u001b[0K\u001b[1G173.7 MiB [] 61% 0.6s\u001b[0K\u001b[1G173.7 MiB [] 62% 0.6s\u001b[0K\u001b[1G173.7 MiB [] 63% 0.6s\u001b[0K\u001b[1G173.7 MiB [] 64% 0.6s\u001b[0K\u001b[1G173.7 MiB [] 65% 0.6s\u001b[0K\u001b[1G173.7 MiB [] 66% 0.5s\u001b[0K\u001b[1G173.7 MiB [] 68% 0.5s\u001b[0K\u001b[1G173.7 MiB [] 69% 0.5s\u001b[0K\u001b[1G173.7 MiB [] 71% 0.5s\u001b[0K\u001b[1G173.7 MiB [] 72% 0.4s\u001b[0K\u001b[1G173.7 MiB [] 73% 0.4s\u001b[0K\u001b[1G173.7 MiB [] 75% 0.4s\u001b[0K\u001b[1G173.7 MiB [] 76% 0.4s\u001b[0K\u001b[1G173.7 MiB [] 77% 0.4s\u001b[0K\u001b[1G173.7 MiB [] 78% 0.3s\u001b[0K\u001b[1G173.7 MiB [] 79% 0.3s\u001b[0K\u001b[1G173.7 MiB [] 80% 0.3s\u001b[0K\u001b[1G173.7 MiB [] 81% 0.3s\u001b[0K\u001b[1G173.7 MiB [] 82% 0.3s\u001b[0K\u001b[1G173.7 MiB [] 83% 0.3s\u001b[0K\u001b[1G173.7 MiB [] 84% 0.2s\u001b[0K\u001b[1G173.7 MiB [] 85% 0.2s\u001b[0K\u001b[1G173.7 MiB [] 86% 0.2s\u001b[0K\u001b[1G173.7 MiB [] 87% 0.2s\u001b[0K\u001b[1G173.7 MiB [] 88% 0.2s\u001b[0K\u001b[1G173.7 MiB [] 89% 0.2s\u001b[0K\u001b[1G173.7 MiB [] 90% 0.1s\u001b[0K\u001b[1G173.7 MiB [] 91% 0.1s\u001b[0K\u001b[1G173.7 MiB [] 92% 0.1s\u001b[0K\u001b[1G173.7 MiB [] 94% 0.1s\u001b[0K\u001b[1G173.7 MiB [] 95% 0.1s\u001b[0K\u001b[1G173.7 MiB [] 96% 0.0s\u001b[0K\u001b[1G173.7 MiB [] 98% 0.0s\u001b[0K\u001b[1G173.7 MiB [] 99% 0.0s\u001b[0K\u001b[1G173.7 MiB [] 100% 0.0s\u001b[0K\n",
            "Chromium 140.0.7339.16 (playwright build v1187) downloaded to /root/.cache/ms-playwright/chromium-1187\n",
            "Downloading Chromium Headless Shell 140.0.7339.16 (playwright build v1187)\u001b[2m from https://cdn.playwright.dev/dbazure/download/playwright/builds/chromium/1187/chromium-headless-shell-linux.zip\u001b[22m\n",
            "\u001b[1G104.3 MiB [] 0% 0.0s\u001b[0K\u001b[1G104.3 MiB [] 0% 2.3s\u001b[0K\u001b[1G104.3 MiB [] 2% 1.5s\u001b[0K\u001b[1G104.3 MiB [] 3% 1.4s\u001b[0K\u001b[1G104.3 MiB [] 5% 1.2s\u001b[0K\u001b[1G104.3 MiB [] 6% 1.1s\u001b[0K\u001b[1G104.3 MiB [] 7% 1.1s\u001b[0K\u001b[1G104.3 MiB [] 8% 1.2s\u001b[0K\u001b[1G104.3 MiB [] 10% 1.2s\u001b[0K\u001b[1G104.3 MiB [] 10% 1.3s\u001b[0K\u001b[1G104.3 MiB [] 12% 1.2s\u001b[0K\u001b[1G104.3 MiB [] 14% 1.1s\u001b[0K\u001b[1G104.3 MiB [] 15% 1.1s\u001b[0K\u001b[1G104.3 MiB [] 16% 1.1s\u001b[0K\u001b[1G104.3 MiB [] 17% 1.1s\u001b[0K\u001b[1G104.3 MiB [] 20% 1.0s\u001b[0K\u001b[1G104.3 MiB [] 21% 1.0s\u001b[0K\u001b[1G104.3 MiB [] 23% 1.0s\u001b[0K\u001b[1G104.3 MiB [] 24% 0.9s\u001b[0K\u001b[1G104.3 MiB [] 26% 0.9s\u001b[0K\u001b[1G104.3 MiB [] 28% 0.8s\u001b[0K\u001b[1G104.3 MiB [] 31% 0.8s\u001b[0K\u001b[1G104.3 MiB [] 33% 0.7s\u001b[0K\u001b[1G104.3 MiB [] 34% 0.7s\u001b[0K\u001b[1G104.3 MiB [] 37% 0.7s\u001b[0K\u001b[1G104.3 MiB [] 38% 0.7s\u001b[0K\u001b[1G104.3 MiB [] 41% 0.6s\u001b[0K\u001b[1G104.3 MiB [] 43% 0.6s\u001b[0K\u001b[1G104.3 MiB [] 44% 0.6s\u001b[0K\u001b[1G104.3 MiB [] 47% 0.6s\u001b[0K\u001b[1G104.3 MiB [] 48% 0.5s\u001b[0K\u001b[1G104.3 MiB [] 51% 0.5s\u001b[0K\u001b[1G104.3 MiB [] 53% 0.5s\u001b[0K\u001b[1G104.3 MiB [] 55% 0.5s\u001b[0K\u001b[1G104.3 MiB [] 57% 0.4s\u001b[0K\u001b[1G104.3 MiB [] 60% 0.4s\u001b[0K\u001b[1G104.3 MiB [] 62% 0.4s\u001b[0K\u001b[1G104.3 MiB [] 63% 0.4s\u001b[0K\u001b[1G104.3 MiB [] 64% 0.4s\u001b[0K\u001b[1G104.3 MiB [] 66% 0.3s\u001b[0K\u001b[1G104.3 MiB [] 68% 0.3s\u001b[0K\u001b[1G104.3 MiB [] 70% 0.3s\u001b[0K\u001b[1G104.3 MiB [] 72% 0.3s\u001b[0K\u001b[1G104.3 MiB [] 74% 0.2s\u001b[0K\u001b[1G104.3 MiB [] 77% 0.2s\u001b[0K\u001b[1G104.3 MiB [] 79% 0.2s\u001b[0K\u001b[1G104.3 MiB [] 81% 0.2s\u001b[0K\u001b[1G104.3 MiB [] 83% 0.2s\u001b[0K\u001b[1G104.3 MiB [] 85% 0.1s\u001b[0K\u001b[1G104.3 MiB [] 88% 0.1s\u001b[0K\u001b[1G104.3 MiB [] 90% 0.1s\u001b[0K\u001b[1G104.3 MiB [] 91% 0.1s\u001b[0K\u001b[1G104.3 MiB [] 94% 0.1s\u001b[0K\u001b[1G104.3 MiB [] 95% 0.0s\u001b[0K\u001b[1G104.3 MiB [] 98% 0.0s\u001b[0K\u001b[1G104.3 MiB [] 99% 0.0s\u001b[0K\u001b[1G104.3 MiB [] 100% 0.0s\u001b[0K\n",
            "Chromium Headless Shell 140.0.7339.16 (playwright build v1187) downloaded to /root/.cache/ms-playwright/chromium_headless_shell-1187\n",
            "Downloading Firefox 141.0 (playwright build v1490)\u001b[2m from https://cdn.playwright.dev/dbazure/download/playwright/builds/firefox/1490/firefox-ubuntu-22.04.zip\u001b[22m\n",
            "\u001b[1G96 MiB [] 0% 0.0s\u001b[0K\u001b[1G96 MiB [] 0% 2.1s\u001b[0K\u001b[1G96 MiB [] 2% 1.5s\u001b[0K\u001b[1G96 MiB [] 3% 1.3s\u001b[0K\u001b[1G96 MiB [] 4% 1.3s\u001b[0K\u001b[1G96 MiB [] 6% 1.2s\u001b[0K\u001b[1G96 MiB [] 8% 1.1s\u001b[0K\u001b[1G96 MiB [] 9% 1.1s\u001b[0K\u001b[1G96 MiB [] 9% 1.2s\u001b[0K\u001b[1G96 MiB [] 11% 1.1s\u001b[0K\u001b[1G96 MiB [] 12% 1.4s\u001b[0K\u001b[1G96 MiB [] 13% 1.4s\u001b[0K\u001b[1G96 MiB [] 16% 1.2s\u001b[0K\u001b[1G96 MiB [] 17% 1.2s\u001b[0K\u001b[1G96 MiB [] 18% 1.2s\u001b[0K\u001b[1G96 MiB [] 19% 1.1s\u001b[0K\u001b[1G96 MiB [] 20% 1.1s\u001b[0K\u001b[1G96 MiB [] 22% 1.1s\u001b[0K\u001b[1G96 MiB [] 23% 1.1s\u001b[0K\u001b[1G96 MiB [] 24% 1.1s\u001b[0K\u001b[1G96 MiB [] 25% 1.1s\u001b[0K\u001b[1G96 MiB [] 26% 1.1s\u001b[0K\u001b[1G96 MiB [] 27% 1.1s\u001b[0K\u001b[1G96 MiB [] 28% 1.0s\u001b[0K\u001b[1G96 MiB [] 30% 1.0s\u001b[0K\u001b[1G96 MiB [] 31% 1.0s\u001b[0K\u001b[1G96 MiB [] 33% 0.9s\u001b[0K\u001b[1G96 MiB [] 35% 0.9s\u001b[0K\u001b[1G96 MiB [] 37% 0.9s\u001b[0K\u001b[1G96 MiB [] 38% 0.8s\u001b[0K\u001b[1G96 MiB [] 40% 0.8s\u001b[0K\u001b[1G96 MiB [] 42% 0.8s\u001b[0K\u001b[1G96 MiB [] 44% 0.7s\u001b[0K\u001b[1G96 MiB [] 46% 0.7s\u001b[0K\u001b[1G96 MiB [] 47% 0.7s\u001b[0K\u001b[1G96 MiB [] 48% 0.7s\u001b[0K\u001b[1G96 MiB [] 49% 0.7s\u001b[0K\u001b[1G96 MiB [] 51% 0.6s\u001b[0K\u001b[1G96 MiB [] 53% 0.6s\u001b[0K\u001b[1G96 MiB [] 55% 0.6s\u001b[0K\u001b[1G96 MiB [] 56% 0.5s\u001b[0K\u001b[1G96 MiB [] 58% 0.5s\u001b[0K\u001b[1G96 MiB [] 60% 0.5s\u001b[0K\u001b[1G96 MiB [] 62% 0.5s\u001b[0K\u001b[1G96 MiB [] 64% 0.4s\u001b[0K\u001b[1G96 MiB [] 66% 0.4s\u001b[0K\u001b[1G96 MiB [] 68% 0.4s\u001b[0K\u001b[1G96 MiB [] 70% 0.3s\u001b[0K\u001b[1G96 MiB [] 73% 0.3s\u001b[0K\u001b[1G96 MiB [] 75% 0.3s\u001b[0K\u001b[1G96 MiB [] 77% 0.3s\u001b[0K\u001b[1G96 MiB [] 78% 0.2s\u001b[0K\u001b[1G96 MiB [] 80% 0.2s\u001b[0K\u001b[1G96 MiB [] 82% 0.2s\u001b[0K\u001b[1G96 MiB [] 84% 0.2s\u001b[0K\u001b[1G96 MiB [] 86% 0.1s\u001b[0K\u001b[1G96 MiB [] 88% 0.1s\u001b[0K\u001b[1G96 MiB [] 90% 0.1s\u001b[0K\u001b[1G96 MiB [] 91% 0.1s\u001b[0K\u001b[1G96 MiB [] 93% 0.1s\u001b[0K\u001b[1G96 MiB [] 95% 0.0s\u001b[0K\u001b[1G96 MiB [] 97% 0.0s\u001b[0K\u001b[1G96 MiB [] 99% 0.0s\u001b[0K\u001b[1G96 MiB [] 100% 0.0s\u001b[0K\n",
            "Firefox 141.0 (playwright build v1490) downloaded to /root/.cache/ms-playwright/firefox-1490\n",
            "Downloading Webkit 26.0 (playwright build v2203)\u001b[2m from https://cdn.playwright.dev/dbazure/download/playwright/builds/webkit/2203/webkit-ubuntu-22.04.zip\u001b[22m\n",
            "\u001b[1G94.6 MiB [] 0% 0.0s\u001b[0K\u001b[1G94.6 MiB [] 0% 5.4s\u001b[0K\u001b[1G94.6 MiB [] 1% 2.3s\u001b[0K\u001b[1G94.6 MiB [] 2% 1.9s\u001b[0K\u001b[1G94.6 MiB [] 3% 1.8s\u001b[0K\u001b[1G94.6 MiB [] 4% 1.6s\u001b[0K\u001b[1G94.6 MiB [] 6% 1.5s\u001b[0K\u001b[1G94.6 MiB [] 7% 1.4s\u001b[0K\u001b[1G94.6 MiB [] 8% 1.3s\u001b[0K\u001b[1G94.6 MiB [] 10% 1.5s\u001b[0K\u001b[1G94.6 MiB [] 11% 1.5s\u001b[0K\u001b[1G94.6 MiB [] 13% 1.4s\u001b[0K\u001b[1G94.6 MiB [] 14% 1.3s\u001b[0K\u001b[1G94.6 MiB [] 16% 1.3s\u001b[0K\u001b[1G94.6 MiB [] 18% 1.3s\u001b[0K\u001b[1G94.6 MiB [] 20% 1.2s\u001b[0K\u001b[1G94.6 MiB [] 22% 1.1s\u001b[0K\u001b[1G94.6 MiB [] 23% 1.2s\u001b[0K\u001b[1G94.6 MiB [] 25% 1.1s\u001b[0K\u001b[1G94.6 MiB [] 26% 1.1s\u001b[0K\u001b[1G94.6 MiB [] 28% 1.0s\u001b[0K\u001b[1G94.6 MiB [] 30% 1.0s\u001b[0K\u001b[1G94.6 MiB [] 32% 0.9s\u001b[0K\u001b[1G94.6 MiB [] 34% 0.8s\u001b[0K\u001b[1G94.6 MiB [] 37% 0.8s\u001b[0K\u001b[1G94.6 MiB [] 38% 0.8s\u001b[0K\u001b[1G94.6 MiB [] 40% 0.7s\u001b[0K\u001b[1G94.6 MiB [] 41% 0.7s\u001b[0K\u001b[1G94.6 MiB [] 43% 0.7s\u001b[0K\u001b[1G94.6 MiB [] 46% 0.6s\u001b[0K\u001b[1G94.6 MiB [] 47% 0.6s\u001b[0K\u001b[1G94.6 MiB [] 47% 0.7s\u001b[0K\u001b[1G94.6 MiB [] 50% 0.6s\u001b[0K\u001b[1G94.6 MiB [] 52% 0.6s\u001b[0K\u001b[1G94.6 MiB [] 55% 0.5s\u001b[0K\u001b[1G94.6 MiB [] 57% 0.5s\u001b[0K\u001b[1G94.6 MiB [] 59% 0.5s\u001b[0K\u001b[1G94.6 MiB [] 61% 0.4s\u001b[0K\u001b[1G94.6 MiB [] 63% 0.4s\u001b[0K\u001b[1G94.6 MiB [] 66% 0.4s\u001b[0K\u001b[1G94.6 MiB [] 68% 0.3s\u001b[0K\u001b[1G94.6 MiB [] 71% 0.3s\u001b[0K\u001b[1G94.6 MiB [] 73% 0.3s\u001b[0K\u001b[1G94.6 MiB [] 75% 0.3s\u001b[0K\u001b[1G94.6 MiB [] 76% 0.2s\u001b[0K\u001b[1G94.6 MiB [] 78% 0.2s\u001b[0K\u001b[1G94.6 MiB [] 79% 0.2s\u001b[0K\u001b[1G94.6 MiB [] 80% 0.2s\u001b[0K\u001b[1G94.6 MiB [] 81% 0.2s\u001b[0K\u001b[1G94.6 MiB [] 82% 0.2s\u001b[0K\u001b[1G94.6 MiB [] 83% 0.2s\u001b[0K\u001b[1G94.6 MiB [] 84% 0.2s\u001b[0K\u001b[1G94.6 MiB [] 85% 0.2s\u001b[0K\u001b[1G94.6 MiB [] 88% 0.1s\u001b[0K\u001b[1G94.6 MiB [] 89% 0.1s\u001b[0K\u001b[1G94.6 MiB [] 92% 0.1s\u001b[0K\u001b[1G94.6 MiB [] 94% 0.1s\u001b[0K\u001b[1G94.6 MiB [] 97% 0.0s\u001b[0K\u001b[1G94.6 MiB [] 100% 0.0s\u001b[0K\n",
            "Webkit 26.0 (playwright build v2203) downloaded to /root/.cache/ms-playwright/webkit-2203\n",
            "Downloading FFMPEG playwright build v1011\u001b[2m from https://cdn.playwright.dev/dbazure/download/playwright/builds/ffmpeg/1011/ffmpeg-linux.zip\u001b[22m\n",
            "\u001b[1G2.3 MiB [] 0% 0.0s\u001b[0K\u001b[1G2.3 MiB [] 34% 0.0s\u001b[0K\u001b[1G2.3 MiB [] 89% 0.0s\u001b[0K\u001b[1G2.3 MiB [] 100% 0.0s\u001b[0K\n",
            "FFMPEG playwright build v1011 downloaded to /root/.cache/ms-playwright/ffmpeg-1011\n",
            "Playwright Host validation warning: \n",
            "╔══════════════════════════════════════════════════════╗\n",
            "║ Host system is missing dependencies to run browsers. ║\n",
            "║ Missing libraries:                                   ║\n",
            "║     libwoff2dec.so.1.0.2                             ║\n",
            "║     libgstgl-1.0.so.0                                ║\n",
            "║     libgstcodecparsers-1.0.so.0                      ║\n",
            "║     libavif.so.13                                    ║\n",
            "║     libharfbuzz-icu.so.0                             ║\n",
            "║     libenchant-2.so.2                                ║\n",
            "║     libsecret-1.so.0                                 ║\n",
            "║     libhyphen.so.0                                   ║\n",
            "║     libmanette-0.2.so.0                              ║\n",
            "╚══════════════════════════════════════════════════════╝\n",
            "    at validateDependenciesLinux (/usr/local/lib/python3.12/dist-packages/playwright/driver/package/lib/server/registry/dependencies.js:269:9)\n",
            "    at async Registry._validateHostRequirements (/usr/local/lib/python3.12/dist-packages/playwright/driver/package/lib/server/registry/index.js:934:14)\n",
            "    at async Registry._validateHostRequirementsForExecutableIfNeeded (/usr/local/lib/python3.12/dist-packages/playwright/driver/package/lib/server/registry/index.js:1056:7)\n",
            "    at async Registry.validateHostRequirementsForExecutablesIfNeeded (/usr/local/lib/python3.12/dist-packages/playwright/driver/package/lib/server/registry/index.js:1045:7)\n",
            "    at async i.<anonymous> (/usr/local/lib/python3.12/dist-packages/playwright/driver/package/lib/cli/program.js:217:7)\n"
          ]
        }
      ]
    },
    {
      "cell_type": "code",
      "source": [
        "!pip install nest-asyncio\n",
        "import nest_asyncio\n",
        "\n",
        "nest_asyncio.apply()"
      ],
      "metadata": {
        "colab": {
          "base_uri": "https://localhost:8080/"
        },
        "id": "xL81Y2KmnIPq",
        "outputId": "78fcf291-372d-4a84-b8f0-a699892ca9b8"
      },
      "execution_count": 4,
      "outputs": [
        {
          "output_type": "stream",
          "name": "stdout",
          "text": [
            "Requirement already satisfied: nest-asyncio in /usr/local/lib/python3.12/dist-packages (1.6.0)\n"
          ]
        }
      ]
    },
    {
      "cell_type": "code",
      "source": [
        "import os\n",
        "from google.colab import userdata\n",
        "\n",
        "os.environ['OPENAI_API_KEY'] = userdata.get('OPENAI_API_KEY')"
      ],
      "metadata": {
        "id": "rsZygNo0nM44"
      },
      "execution_count": 6,
      "outputs": []
    },
    {
      "cell_type": "code",
      "source": [
        "from langchain_openai import ChatOpenAI\n",
        "from langchain.document_loaders import WebBaseLoader\n",
        "from langchain.text_splitter import CharacterTextSplitter\n",
        "from langchain.chains.summarize import load_summarize_chain\n",
        "from langchain.prompts import PromptTemplate\n",
        "\n",
        "from langchain_community.document_loaders import AsyncChromiumLoader\n",
        "from langchain_community.document_transformers import Html2TextTransformer\n",
        "import trafilatura\n",
        "from langchain_core.documents import Document\n",
        "\n",
        "# urls = [\"https://docs.nestjs.com/custom-decorators\"]\n",
        "urls = ['https://n.news.naver.com/article/015/0005181264?sid=101']\n",
        "loader = AsyncChromiumLoader(urls, user_agent=\"MyCrawler/1.0\")\n",
        "html_docs = loader.load()  # 렌더링된 HTML\n",
        "\n",
        "# print(html_docs[0].page_content)\n",
        "\n",
        "def extract_and_documentation(document: Document) -> Document:\n",
        "  content = trafilatura.extract(document.page_content)\n",
        "  return Document(page_content=content, metadata=document.metadata)\n",
        "\n",
        "texts = [extract_and_documentation(d) for d in html_docs]\n",
        "\n",
        "# 뉴스기사의 본문을 Chunk 단위로 쪼갬\n",
        "text_splitter = CharacterTextSplitter(\n",
        "    separator=\"\\n\\n\",\n",
        "    chunk_size=3000,     # 쪼개는 글자수\n",
        "    chunk_overlap=300,   # 오버랩 글자수\n",
        "    length_function=len,\n",
        "    is_separator_regex=False,\n",
        ")\n",
        "\n",
        "# 웹사이트 내용 크롤링 후 Chunk 단위로 분할\n",
        "docs = text_splitter.split_documents(texts)\n",
        "print(docs)\n",
        "\n",
        "# 각 Chunk 단위의 템플릿\n",
        "template = '''다음의 내용을 한글로 요약해줘:\n",
        "\n",
        "{text}\n",
        "'''\n",
        "\n",
        "# 전체 문서(혹은 전체 Chunk)에 대한 지시(instruct) 정의\n",
        "combine_template = '''{text}\n",
        "\n",
        "요약의 결과는 다음의 형식으로 작성해줘:\n",
        "제목: 웹페이지 제목\n",
        "주요내용: 한 줄로 요약된 내용\n",
        "내용: 주요내용을 불렛포인트 형식으로 작성\n",
        "'''\n",
        "\n",
        "# 템플릿 생성\n",
        "prompt = PromptTemplate(template=template, input_variables=['text'])\n",
        "combine_prompt = PromptTemplate(template=combine_template, input_variables=['text'])\n",
        "print(prompt)\n",
        "print(combine_prompt)\n",
        "\n",
        "# LLM 객체 생성\n",
        "llm = ChatOpenAI(temperature=0,\n",
        "                 model_name='gpt-5-mini')\n",
        "\n",
        "# 요약을 도와주는 load_summarize_chain\n",
        "chain = load_summarize_chain(llm,\n",
        "                             map_prompt=prompt,\n",
        "                             combine_prompt=combine_prompt,\n",
        "                             chain_type='map_reduce',\n",
        "                             verbose=False)\n",
        "\n",
        "# 실행결과\n",
        "output_text = chain.invoke(docs).get('output_text')\n",
        "print(output_text)"
      ],
      "metadata": {
        "colab": {
          "base_uri": "https://localhost:8080/"
        },
        "id": "ynLTXMrjnK0T",
        "outputId": "0a2576ba-2e19-42e6-d2f8-a59aacd94cb9"
      },
      "execution_count": 21,
      "outputs": [
        {
          "output_type": "stream",
          "name": "stdout",
          "text": [
            "[Document(metadata={'source': 'https://n.news.naver.com/article/015/0005181264?sid=101'}, page_content=\"“삼성 인공지능(AI) 모델인 가우스를 자체적으로 고도화시키는 동시에 제품 기능이나 서비스에 따라 파트너사의 AI 모델을 적극적으로 활용하는 ‘하이브리드 AI’ 전략을 구사할 것입니다. ”\\n노태문 삼성전자 디바이스경험(DX)부문장 직무대행(사장)은 유럽 최대 가전 전시회 'IFA2025' 개막 전날인 지난 4일(현지시간) 독일 베를린에서 연 기자간담회에서 삼성의 AI 전략에 대해 이같이 말했다.\\n지난 4월 DX부문장 취임 후 처음으로 국내 언론과 만난 이날 자리에서 노 사장은 삼성 AI가 나아가야할 방향을 설명하는데 상당시간을 할애했다. 삼성전자는 자체 AI인 가우스와 함께 구글 제미나이 등 파트너사의 AI모델을 유연하게 활용하고 있다. 노 사장은 “AI의 발전과 전환기에 가장 중점을 두고 있는 부분은 DX부문 전체 사업 내 제품, 기능, 서비스에 빠르게 최신 AI를 적용해 고도화하는 것”이라고 말했다.\\n하이브리드AI 전략에 대해선 “두 가지 의미가 있는데, 삼성전자가 보유한 기기에서 온디바이스 AI를 바탕으로 고객이 원하는 시점에 클라우드 AI를 적재적소에 사용하는 방식이 한 축”이라며 “또 다른 축은 가우스에 국한하지 않고, 파트너사의 AI 모델을 적극적으로 활용해 제품, 서비스에 따라 최적의 조합으로 제공하는 것”이라고 설명했다. 하드웨어와 소프트웨어를 같이 균형있게 결합해 서로 시너지를 내야 AI에 대한 최적의 경험과 서비스를 제공할 수 있다는 게 그의 생각이다.\\n노 사장은 업무 측면에선 오는 2030년까지 AI를 활용해 'AI 선도 컴퍼니‘(AI Driven Company)로 거듭나겠다는 계획을 밝혔다. 그는 “AI를 중심으로 비즈니스 근본부터 혁신해 새로운 도약의 발판을 마련하겠다”며 “AI를 가장 잘 활용하는 회사, AI로 일하고 성장해나가는 회사로 빠르게 전환시키겠다”고 선언했다.\\n특히 2030년까지 전 업무 영역의 90%에 AI를 적용해서 AI가 현장에서 판단하고 결정할 수 있도록 하겠다는 방침이다. 제품 측면에선 연내 4억 대 이상의 갤럭시 기기에 AI 기능을 탑재하겠다는 목표를 세웠다.\\n노 사장은 유럽 가전 시장 공략 방안으로도 AI 고도화를 내세웠다. 삼성전자는 올해 IFA에서 ‘AI홈’을 주제로 말하지 않아도 AI가 알아서 사용자의 편의성을 극대화시키는 미래를 제시했다. 노 사장은 “유럽 시장은 어떤 다른 지역보다 최첨단 기능에 대해서 빨리 수용하고 적응하는 특징이 있다”며 “AI를 강조하고 고도화하는게 중요한 기회가 될 것”이라고 말했다. 이어 “유럽 뿐 아니라 글로벌 시장이 프리미엄 시장과 보급형 시장이 각각 확대되는 양극화 모습을 보이고 있다”며 “프리미엄 제품을 시작으로 빠르게 보급형까지 AI 기능을 적용해 대중화를 이끌 것”이라고 덧붙였다.\\n베를린=김채연 기자 why29@hankyung.com\")]\n",
            "input_variables=['text'] input_types={} partial_variables={} template='다음의 내용을 한글로 요약해줘:\\n\\n{text}\\n'\n",
            "input_variables=['text'] input_types={} partial_variables={} template='{text}\\n\\n요약의 결과는 다음의 형식으로 작성해줘:\\n제목: 웹페이지 제목\\n주요내용: 한 줄로 요약된 내용\\n내용: 주요내용을 불렛포인트 형식으로 작성\\n'\n",
            "제목: 삼성전자, ‘하이브리드 AI’로 2030년 AI 선도기업 도약 선언\n",
            "\n",
            "주요내용: 노태문 사장 직무대행은 IFA2025 기자간담회에서 자체 모델 가우스 고도화와 파트너 모델 병행 활용의 ‘하이브리드 AI’ 전략을 발표하고, 연내 4억대 이상 갤럭시에 AI 기능 탑재와 2030년 전사 AI 전환 목표를 제시함.\n",
            "\n",
            "내용:\n",
            "- 발표자·장소·시기: 노태문 삼성전자 DX부문장 직무대행(사장)이 IFA2025 개막 전날(베를린) 기자간담회에서 설명.\n",
            "- 전략 핵심: 자체 AI 모델 '가우스'를 고도화하면서 구글 제미나이 등 파트너사 모델도 제품·서비스에 따라 적극 활용하는 '하이브리드 AI' 채택.\n",
            "- 하이브리드 AI의 두 축:\n",
            "  - 기본은 기기 기반 온디바이스 AI, 필요 시 클라우드 AI를 적재적소에 활용.\n",
            "  - 가우스에만 국한하지 않고 파트너 모델을 조합해 최적의 솔루션 제공.\n",
            "- 목표·계획:\n",
            "  - 2030년까지 AI 중심 전사 혁신을 추진해 'AI 선도 기업'으로 도약.\n",
            "  - 전 업무 영역의 90%에 AI 적용해 현장에서 판단·결정하게 함.\n",
            "  - 연내 4억 대 이상 갤럭시 기기에 AI 기능 탑재 목표.\n",
            "- 시장 전략:\n",
            "  - IFA에서 ‘AI홈’ 콘셉트로 유럽 등 선진 시장 공략.\n",
            "  - 프리미엄에서 시작해 보급형까지 빠르게 AI를 확산시켜 대중화 추진.\n"
          ]
        }
      ]
    }
  ]
}